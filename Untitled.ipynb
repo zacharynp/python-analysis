{
 "cells": [
  {
   "cell_type": "markdown",
   "id": "c956b439-6b2f-4289-85d3-9552292cd343",
   "metadata": {},
   "source": [
    "# Python Analysis test notebook\n",
    "If you're reading this, you have successfully accessed this notebook.\n",
    "\n",
    "good for you"
   ]
  },
  {
   "cell_type": "code",
   "execution_count": 4,
   "id": "9e55fb2f-79f7-433d-be71-21f5d4c6da21",
   "metadata": {},
   "outputs": [],
   "source": [
    "import numpy as np"
   ]
  },
  {
   "cell_type": "code",
   "execution_count": null,
   "id": "13dc853d-bda4-44c8-a935-68d320d15a0d",
   "metadata": {},
   "outputs": [],
   "source": []
  }
 ],
 "metadata": {
  "kernelspec": {
   "display_name": "Python 3 (ipykernel)",
   "language": "python",
   "name": "python3"
  },
  "language_info": {
   "codemirror_mode": {
    "name": "ipython",
    "version": 3
   },
   "file_extension": ".py",
   "mimetype": "text/x-python",
   "name": "python",
   "nbconvert_exporter": "python",
   "pygments_lexer": "ipython3",
   "version": "3.7.10"
  },
  "toc-autonumbering": false,
  "toc-showtags": false
 },
 "nbformat": 4,
 "nbformat_minor": 5
}
